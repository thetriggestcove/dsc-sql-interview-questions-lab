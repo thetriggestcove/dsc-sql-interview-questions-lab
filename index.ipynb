{
 "cells": [
  {
   "cell_type": "markdown",
   "metadata": {},
   "source": [
    "# SQL Interview Questions - Lab\n",
    "\n",
    "## Introduction\n",
    "\n",
    "In this lab, we'll test our SQL skills against some real-world interview questions from major companies!\n",
    "\n",
    "## Objectives\n",
    "\n",
    "You will be able to:\n",
    "\n",
    "* Write SQL queries to filter and order results\n",
    "* Decide and perform whichever type of join is best for retrieving desired data\n",
    "* Write subqueries to decompose complex queries\n",
    "\n",
    "## Getting Started\n",
    "\n",
    "In this lab, we'll see four different interview questions that test your SQL knowledge. We didn't write these questions -- instead, we found them out in the real-world. These are questions that have been used in the past by major technology companies such as Facebook, Amazon, and Twitter. Our goal here isn't to memorize the questions or anything like that -- after all, it's extremely unlikely that these questions are still in use, now that they've become publicly available on the interwebs. Instead, our goal is to treat these questions as if they are the real thing, and give us some insight into the types of questions we'll need to be able to answer in order pass an interview involving SQL. \n",
    "\n",
    "If these questions seem hard to you, don't sweat it, they're supposed to be tough! These are meant to help you identify any areas of knowledge where you still need to grow! Use these questions as a way to see where your SQL knowledge is strong, and where it's a bit weak. Then, go study and **practice** in the areas where you still need work!\n",
    "\n",
    "### A Note on Answering These Questions\n",
    "\n",
    "Since these are interview questions, they'll almost always be posed as hypotheticals. This means that you won't have a real database to work with and test your code on. This also means that there are multiple different solutions to any given problem listed here. Be sure to doublecheck the code you write for bugs and errors. It's much harder to write bug-free code when you aren't able to test it against a database!\n",
    "\n",
    "If these questions seem hard, that's normal. These are real questions that have been reported to online forums from job seekers at major companies. Obviously, it's unlikely that they're still in use at these companies, but they still represent a great way for us to test our skills against the kinds of questions we can expect to be asked in an interview!\n",
    "\n",
    "## Question 1\n",
    "\n",
    "From Facebook:\n",
    "\n",
    "Assume we have a table of employee information, which includes salary information. Write a query to find the names and salaries of the top 5 highest paid employees, in descending order."
   ]
  },
  {
   "cell_type": "code",
   "execution_count": 6,
   "metadata": {},
   "outputs": [
    {
     "data": {
      "text/plain": [
       "'SELECT e.full_name, e.salary\\n   FROM employees e\\n   ORDER BY salary DESC\\n   LIMIT 5'"
      ]
     },
     "execution_count": 6,
     "metadata": {},
     "output_type": "execute_result"
    }
   ],
   "source": [
    "\"\"\"SELECT e.full_name, e.salary\n",
    "   FROM employees e\n",
    "   ORDER BY salary DESC\n",
    "   LIMIT 5\"\"\""
   ]
  },
  {
   "cell_type": "markdown",
   "metadata": {},
   "source": [
    "## Question 2\n",
    "\n",
    "From Amazon:\n",
    "\n",
    "Assume we have two SQL tables: `authors` and `books`. The authors table has a few million rows, and looks like this: \n",
    "\n",
    "| author_name | book_name |\n",
    "|:-----------:|:---------:|\n",
    "|   author_1  |   book_1  |\n",
    "|   author_1  |   book_2  |\n",
    "|   author_2  |   book_3  |\n",
    "|   author_2  |   book_4  |\n",
    "|   author_2  |   book_5  |\n",
    "|   author_3  |   book_6  |\n",
    "\n",
    "The books dataset also has a few million rows, and looks like this:\n",
    "\n",
    "| book_name | copies_sold |\n",
    "|:---------:|:-----------:|\n",
    "|   book_1  |    10000    |\n",
    "|   book_2  |     2575    |\n",
    "|   book_3  |    60000    |\n",
    "|   book_4  |    98000    |\n",
    "|   book_5  |     5250    |\n",
    "|   book_6  |    19775    |\n",
    "\n",
    "Write an SQL query that shows the top 3 authors who sold the most total books. "
   ]
  },
  {
   "cell_type": "code",
   "execution_count": 7,
   "metadata": {},
   "outputs": [
    {
     "data": {
      "text/plain": [
       "'SELECT a.author_name\\n   FROM authors a\\n   LEFT JOIN books b USING (book_name)\\n   GROUP BY a.author_name\\n   ORDER BY SUM(b.copies_sold) DESC\\n   LIMIT 3\\n'"
      ]
     },
     "execution_count": 7,
     "metadata": {},
     "output_type": "execute_result"
    }
   ],
   "source": [
    "# Your code here\n",
    "\"\"\"SELECT a.author_name\n",
    "   FROM authors a\n",
    "   LEFT JOIN books b USING (book_name)\n",
    "   GROUP BY a.author_name\n",
    "   ORDER BY SUM(b.copies_sold) DESC\n",
    "   LIMIT 3\n",
    "\"\"\""
   ]
  },
  {
   "cell_type": "markdown",
   "metadata": {},
   "source": [
    "## Question 3\n",
    "\n",
    "From Amazon:\n",
    "\n",
    "Assume you have two tables, `customers` and `orders`. Write a SQL query to select all customers who purchased at least 2 items on two separate days. "
   ]
  },
  {
   "cell_type": "code",
   "execution_count": 1,
   "metadata": {},
   "outputs": [],
   "source": [
    "import pandas as pd\n",
    "import sqlite3\n",
    "conn = sqlite3.connect('question3.db')\n",
    "cur = conn.cursor()"
   ]
  },
  {
   "cell_type": "code",
   "execution_count": 2,
   "metadata": {},
   "outputs": [
    {
     "data": {
      "text/plain": [
       "<sqlite3.Cursor at 0x7fc2064657a0>"
      ]
     },
     "execution_count": 2,
     "metadata": {},
     "output_type": "execute_result"
    }
   ],
   "source": [
    "# Create sample tables\n",
    "cur.execute(\"\"\"CREATE TABLE IF NOT EXISTS customers (\n",
    "                customer_id INTEGER PRIMARY KEY\n",
    "              , customer_name TEXT)\"\"\")\n",
    "\n",
    "cur.execute(\"\"\"CREATE TABLE IF NOT EXISTS orders (\n",
    "                order_id INTEGER PRIMARY KEY\n",
    "              , customer_id INTEGER\n",
    "              , order_date TEXT\n",
    "              , item_count INTEGER)\"\"\")"
   ]
  },
  {
   "cell_type": "code",
   "execution_count": null,
   "metadata": {},
   "outputs": [],
   "source": [
    "# Insert sample values into Customer table\n",
    "#values = ['Jessica Miles', 'Fred Rogers', 'Andrew Cuomo', 'Donald Trump']\n",
    "\n",
    "#[cur.execute(f\"\"\"INSERT INTO customers (customer_name) \n",
    "#        VALUES ('{val}')\"\"\") for val in values]"
   ]
  },
  {
   "cell_type": "code",
   "execution_count": 5,
   "metadata": {},
   "outputs": [
    {
     "data": {
      "text/html": [
       "<div>\n",
       "<style scoped>\n",
       "    .dataframe tbody tr th:only-of-type {\n",
       "        vertical-align: middle;\n",
       "    }\n",
       "\n",
       "    .dataframe tbody tr th {\n",
       "        vertical-align: top;\n",
       "    }\n",
       "\n",
       "    .dataframe thead th {\n",
       "        text-align: right;\n",
       "    }\n",
       "</style>\n",
       "<table border=\"1\" class=\"dataframe\">\n",
       "  <thead>\n",
       "    <tr style=\"text-align: right;\">\n",
       "      <th></th>\n",
       "      <th>customer_id</th>\n",
       "      <th>customer_name</th>\n",
       "    </tr>\n",
       "  </thead>\n",
       "  <tbody>\n",
       "    <tr>\n",
       "      <th>0</th>\n",
       "      <td>1</td>\n",
       "      <td>Jessica Miles</td>\n",
       "    </tr>\n",
       "    <tr>\n",
       "      <th>1</th>\n",
       "      <td>2</td>\n",
       "      <td>Fred Rogers</td>\n",
       "    </tr>\n",
       "    <tr>\n",
       "      <th>2</th>\n",
       "      <td>3</td>\n",
       "      <td>Andrew Cuomo</td>\n",
       "    </tr>\n",
       "    <tr>\n",
       "      <th>3</th>\n",
       "      <td>4</td>\n",
       "      <td>Donald Trump</td>\n",
       "    </tr>\n",
       "  </tbody>\n",
       "</table>\n",
       "</div>"
      ],
      "text/plain": [
       "   customer_id  customer_name\n",
       "0            1  Jessica Miles\n",
       "1            2    Fred Rogers\n",
       "2            3   Andrew Cuomo\n",
       "3            4   Donald Trump"
      ]
     },
     "execution_count": 5,
     "metadata": {},
     "output_type": "execute_result"
    }
   ],
   "source": [
    "sql_str = \"\"\"SELECT * FROM customers\"\"\"\n",
    "\n",
    "df = pd.DataFrame(cur.execute(sql_str).fetchall())\n",
    "df.columns = [x[0] for x in cur.description]\n",
    "\n",
    "df"
   ]
  },
  {
   "cell_type": "code",
   "execution_count": 21,
   "metadata": {},
   "outputs": [
    {
     "data": {
      "text/plain": [
       "[<sqlite3.Cursor at 0x7fdda804bb90>,\n",
       " <sqlite3.Cursor at 0x7fdda804bb90>,\n",
       " <sqlite3.Cursor at 0x7fdda804bb90>,\n",
       " <sqlite3.Cursor at 0x7fdda804bb90>,\n",
       " <sqlite3.Cursor at 0x7fdda804bb90>,\n",
       " <sqlite3.Cursor at 0x7fdda804bb90>,\n",
       " <sqlite3.Cursor at 0x7fdda804bb90>,\n",
       " <sqlite3.Cursor at 0x7fdda804bb90>,\n",
       " <sqlite3.Cursor at 0x7fdda804bb90>,\n",
       " <sqlite3.Cursor at 0x7fdda804bb90>]"
      ]
     },
     "execution_count": 21,
     "metadata": {},
     "output_type": "execute_result"
    }
   ],
   "source": [
    "# Insert values into Orders table\n",
    "#values = [[1, '2020-03-04', 3]\n",
    "#         ,[1, '2020-03-10', 5]\n",
    "#         ,[2, '2020-03-01', 1]\n",
    "#         ,[2, '2020-03-31', 2]\n",
    "#         ,[4, '2020-04-01', 1]\n",
    "#         ,[4, '2020-04-01', 1]\n",
    "#         ,[4, '2020-04-01', 1]\n",
    "#         ,[4, '2020-04-10', 1]\n",
    "#         ,[4, '2020-04-10', 1]\n",
    "#         ,[3, '2020-05-01', 15]\n",
    "#         ]\n",
    "\n",
    "#[cur.execute(f\"\"\"INSERT INTO orders (customer_id, order_date, item_count) \n",
    "#        VALUES ({str(val)[1:-1]})\"\"\") for val in values]"
   ]
  },
  {
   "cell_type": "code",
   "execution_count": 6,
   "metadata": {
    "scrolled": true
   },
   "outputs": [
    {
     "data": {
      "text/html": [
       "<div>\n",
       "<style scoped>\n",
       "    .dataframe tbody tr th:only-of-type {\n",
       "        vertical-align: middle;\n",
       "    }\n",
       "\n",
       "    .dataframe tbody tr th {\n",
       "        vertical-align: top;\n",
       "    }\n",
       "\n",
       "    .dataframe thead th {\n",
       "        text-align: right;\n",
       "    }\n",
       "</style>\n",
       "<table border=\"1\" class=\"dataframe\">\n",
       "  <thead>\n",
       "    <tr style=\"text-align: right;\">\n",
       "      <th></th>\n",
       "      <th>order_id</th>\n",
       "      <th>customer_id</th>\n",
       "      <th>order_date</th>\n",
       "      <th>item_count</th>\n",
       "    </tr>\n",
       "  </thead>\n",
       "  <tbody>\n",
       "    <tr>\n",
       "      <th>0</th>\n",
       "      <td>1</td>\n",
       "      <td>1</td>\n",
       "      <td>2020-03-04</td>\n",
       "      <td>3</td>\n",
       "    </tr>\n",
       "    <tr>\n",
       "      <th>1</th>\n",
       "      <td>2</td>\n",
       "      <td>1</td>\n",
       "      <td>2020-03-10</td>\n",
       "      <td>5</td>\n",
       "    </tr>\n",
       "    <tr>\n",
       "      <th>2</th>\n",
       "      <td>3</td>\n",
       "      <td>2</td>\n",
       "      <td>2020-03-01</td>\n",
       "      <td>1</td>\n",
       "    </tr>\n",
       "    <tr>\n",
       "      <th>3</th>\n",
       "      <td>4</td>\n",
       "      <td>2</td>\n",
       "      <td>2020-03-31</td>\n",
       "      <td>2</td>\n",
       "    </tr>\n",
       "    <tr>\n",
       "      <th>4</th>\n",
       "      <td>5</td>\n",
       "      <td>4</td>\n",
       "      <td>2020-04-01</td>\n",
       "      <td>1</td>\n",
       "    </tr>\n",
       "    <tr>\n",
       "      <th>5</th>\n",
       "      <td>6</td>\n",
       "      <td>4</td>\n",
       "      <td>2020-04-01</td>\n",
       "      <td>1</td>\n",
       "    </tr>\n",
       "    <tr>\n",
       "      <th>6</th>\n",
       "      <td>7</td>\n",
       "      <td>4</td>\n",
       "      <td>2020-04-01</td>\n",
       "      <td>1</td>\n",
       "    </tr>\n",
       "    <tr>\n",
       "      <th>7</th>\n",
       "      <td>8</td>\n",
       "      <td>4</td>\n",
       "      <td>2020-04-10</td>\n",
       "      <td>1</td>\n",
       "    </tr>\n",
       "    <tr>\n",
       "      <th>8</th>\n",
       "      <td>9</td>\n",
       "      <td>4</td>\n",
       "      <td>2020-04-10</td>\n",
       "      <td>1</td>\n",
       "    </tr>\n",
       "    <tr>\n",
       "      <th>9</th>\n",
       "      <td>10</td>\n",
       "      <td>3</td>\n",
       "      <td>2020-05-01</td>\n",
       "      <td>15</td>\n",
       "    </tr>\n",
       "  </tbody>\n",
       "</table>\n",
       "</div>"
      ],
      "text/plain": [
       "   order_id  customer_id  order_date  item_count\n",
       "0         1            1  2020-03-04           3\n",
       "1         2            1  2020-03-10           5\n",
       "2         3            2  2020-03-01           1\n",
       "3         4            2  2020-03-31           2\n",
       "4         5            4  2020-04-01           1\n",
       "5         6            4  2020-04-01           1\n",
       "6         7            4  2020-04-01           1\n",
       "7         8            4  2020-04-10           1\n",
       "8         9            4  2020-04-10           1\n",
       "9        10            3  2020-05-01          15"
      ]
     },
     "execution_count": 6,
     "metadata": {},
     "output_type": "execute_result"
    }
   ],
   "source": [
    "sql_str = \"\"\"SELECT * FROM orders\"\"\"\n",
    "\n",
    "df = pd.DataFrame(cur.execute(sql_str).fetchall())\n",
    "df.columns = [x[0] for x in cur.description]\n",
    "\n",
    "df"
   ]
  },
  {
   "cell_type": "code",
   "execution_count": 7,
   "metadata": {},
   "outputs": [],
   "source": [
    "conn.commit()"
   ]
  },
  {
   "cell_type": "code",
   "execution_count": 51,
   "metadata": {},
   "outputs": [
    {
     "data": {
      "text/html": [
       "<div>\n",
       "<style scoped>\n",
       "    .dataframe tbody tr th:only-of-type {\n",
       "        vertical-align: middle;\n",
       "    }\n",
       "\n",
       "    .dataframe tbody tr th {\n",
       "        vertical-align: top;\n",
       "    }\n",
       "\n",
       "    .dataframe thead th {\n",
       "        text-align: right;\n",
       "    }\n",
       "</style>\n",
       "<table border=\"1\" class=\"dataframe\">\n",
       "  <thead>\n",
       "    <tr style=\"text-align: right;\">\n",
       "      <th></th>\n",
       "      <th>customer_name</th>\n",
       "    </tr>\n",
       "  </thead>\n",
       "  <tbody>\n",
       "    <tr>\n",
       "      <th>0</th>\n",
       "      <td>Jessica Miles</td>\n",
       "    </tr>\n",
       "    <tr>\n",
       "      <th>1</th>\n",
       "      <td>Donald Trump</td>\n",
       "    </tr>\n",
       "  </tbody>\n",
       "</table>\n",
       "</div>"
      ],
      "text/plain": [
       "   customer_name\n",
       "0  Jessica Miles\n",
       "1   Donald Trump"
      ]
     },
     "execution_count": 51,
     "metadata": {},
     "output_type": "execute_result"
    }
   ],
   "source": [
    "# My proposed solution. Accounts for the fact that customers may have placed \n",
    "#    multiple orders on the same day\n",
    "\n",
    "# Jessica ordered at least 2 items on two different days, so should return\n",
    "# Mr. Rogers ordered 2 items on  only one day, so should NOT return\n",
    "# Cuomo ordered lots of items on a single day and should NOT return\n",
    "# Donald Trump ordered only one item at a time, but multiple orders per day\n",
    "#     which add up to 2 or more, and should return\n",
    "\n",
    "sql_str = \"\"\"SELECT DISTINCT(c.customer_name)\n",
    "               FROM customers c\n",
    "               INNER JOIN (SELECT customer_id, order_date, SUM(item_count)\n",
    "                           FROM orders\n",
    "                           GROUP BY customer_id, order_date\n",
    "                           HAVING SUM(item_count) >= 2) items\n",
    "                        ON items.customer_id = c.customer_id\n",
    "               GROUP BY c.customer_id, c.customer_name\n",
    "               HAVING COUNT(items.order_date) = 2\n",
    "               ;\"\"\"\n",
    "\n",
    "\n",
    "df = pd.DataFrame(cur.execute(sql_str).fetchall())\n",
    "df.columns = [x[0] for x in cur.description]\n",
    "\n",
    "df\n"
   ]
  },
  {
   "cell_type": "code",
   "execution_count": 7,
   "metadata": {},
   "outputs": [
    {
     "data": {
      "text/html": [
       "<div>\n",
       "<style scoped>\n",
       "    .dataframe tbody tr th:only-of-type {\n",
       "        vertical-align: middle;\n",
       "    }\n",
       "\n",
       "    .dataframe tbody tr th {\n",
       "        vertical-align: top;\n",
       "    }\n",
       "\n",
       "    .dataframe thead th {\n",
       "        text-align: right;\n",
       "    }\n",
       "</style>\n",
       "<table border=\"1\" class=\"dataframe\">\n",
       "  <thead>\n",
       "    <tr style=\"text-align: right;\">\n",
       "      <th></th>\n",
       "      <th>customer_name</th>\n",
       "      <th>NumOrderDates</th>\n",
       "    </tr>\n",
       "  </thead>\n",
       "  <tbody>\n",
       "    <tr>\n",
       "      <th>0</th>\n",
       "      <td>Jessica Miles</td>\n",
       "      <td>2</td>\n",
       "    </tr>\n",
       "  </tbody>\n",
       "</table>\n",
       "</div>"
      ],
      "text/plain": [
       "   customer_name  NumOrderDates\n",
       "0  Jessica Miles              2"
      ]
     },
     "execution_count": 7,
     "metadata": {},
     "output_type": "execute_result"
    }
   ],
   "source": [
    "# Original solution from Flatiron. I adjusted column names to match my test db\n",
    "#\n",
    "# - In the main query, we can't use count() because there is no group by clause\n",
    "#   Need to add a GROUP BY clause and use HAVING instead of WHERE\n",
    "# - Order date is missing from the subquery, so using it in the main query won't work\n",
    "# - In the subquery, you wouldn't join tables by order number/id, \n",
    "#      since a customer would have multiple orders. In a well-designed db,\n",
    "#      order_id wouldn't exist in the customers table.\n",
    "# - The subquery isn't grouping by date, it's assuming each customer only \n",
    "#      made one order on each day\n",
    "\n",
    "# The solution as written doesn't really work. See notes above.\n",
    "sql_str_orig = \"\"\"SELECT customer_name\n",
    "                       , COUNT(DISTINCT o.order_date) as NumOrderDates \n",
    "                  FROM (SELECT c.customer_name\n",
    "                             , o.item_count \n",
    "                        FROM customers c \n",
    "                        JOIN orders o ON c.order_id = o.order_id \n",
    "                        WHERE o.item_count > 1) \n",
    "                  WHERE NumOrderDates > 1;\"\"\"\n",
    "\n",
    "# I adjusted the original solution query below so it would WORK, \n",
    "# but it still doesn't account for the fact that a customer may place \n",
    "# multiple orders on the same day.\n",
    "sql_str = \"\"\"SELECT customer_name\n",
    "                  , COUNT(DISTINCT order_date) as NumOrderDates\n",
    "             FROM (SELECT customer_name\n",
    "                        , o.item_count\n",
    "                        , o.order_date\n",
    "                   FROM customers c \n",
    "                   JOIN orders o ON c.customer_id = o.customer_id\n",
    "                   WHERE o.item_count > 1)\n",
    "             GROUP BY customer_name\n",
    "             HAVING NumOrderDates > 1;\"\"\"\n",
    "\n",
    "df = pd.DataFrame(cur.execute(sql_str).fetchall())\n",
    "df.columns = [x[0] for x in cur.description]\n",
    "\n",
    "df"
   ]
  },
  {
   "cell_type": "markdown",
   "metadata": {},
   "source": [
    "## Question 4\n",
    "\n",
    "From Twitter:\n",
    "\n",
    "A company uses 2 data tables, `Employee` and `Department`, to store data about its employees and departments. \n",
    "\n",
    "Table Name: Employee   \n",
    "Attributes:   \n",
    "ID Integer,   \n",
    "NAME String,   \n",
    "SALARY Integer,   \n",
    "DEPT_ID Integer   \n",
    "\n",
    "Table Name: Department   \n",
    "Attributes:   \n",
    "DEPT_ID Integer,   \n",
    "NAME String,   \n",
    "LOCATION String   \n",
    "\n",
    "Write a query to print the respective Department Name and number of employees for all departments in the Department table (even unstaffed ones). \n",
    "\n",
    "Sort your result in descending order of employees per department; if two or more departments have the same number of employees, then sort those departments alphabetically by Department Name."
   ]
  },
  {
   "cell_type": "code",
   "execution_count": null,
   "metadata": {},
   "outputs": [],
   "source": [
    "# Your code here\n",
    "\"\"\"SELECT d.NAME AS Department_Name\n",
    "        , COUNT(e.ID) AS Employee_Count\n",
    "   FROM Department d\n",
    "   LEFT JOIN Employee e USING (DEPT_ID)\n",
    "   GROUP BY d.DEPT_ID, d.NAME\n",
    "   ORDER BY Employee_Count DESC, Department_Name\n",
    "\"\"\""
   ]
  },
  {
   "cell_type": "markdown",
   "metadata": {},
   "source": [
    "## Summary\n",
    "\n",
    "In this lab, we tested our knowledge of SQL queries against some real-world interview questions!"
   ]
  }
 ],
 "metadata": {
  "kernelspec": {
   "display_name": "Python 3",
   "language": "python",
   "name": "python3"
  },
  "language_info": {
   "codemirror_mode": {
    "name": "ipython",
    "version": 3
   },
   "file_extension": ".py",
   "mimetype": "text/x-python",
   "name": "python",
   "nbconvert_exporter": "python",
   "pygments_lexer": "ipython3",
   "version": "3.8.5"
  },
  "toc": {
   "base_numbering": 1,
   "nav_menu": {},
   "number_sections": true,
   "sideBar": true,
   "skip_h1_title": false,
   "title_cell": "Table of Contents",
   "title_sidebar": "Contents",
   "toc_cell": false,
   "toc_position": {},
   "toc_section_display": true,
   "toc_window_display": false
  },
  "varInspector": {
   "cols": {
    "lenName": 16,
    "lenType": 16,
    "lenVar": 40
   },
   "kernels_config": {
    "python": {
     "delete_cmd_postfix": "",
     "delete_cmd_prefix": "del ",
     "library": "var_list.py",
     "varRefreshCmd": "print(var_dic_list())"
    },
    "r": {
     "delete_cmd_postfix": ") ",
     "delete_cmd_prefix": "rm(",
     "library": "var_list.r",
     "varRefreshCmd": "cat(var_dic_list()) "
    }
   },
   "types_to_exclude": [
    "module",
    "function",
    "builtin_function_or_method",
    "instance",
    "_Feature"
   ],
   "window_display": false
  }
 },
 "nbformat": 4,
 "nbformat_minor": 2
}
